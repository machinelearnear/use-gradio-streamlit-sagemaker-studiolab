{
 "cells": [
  {
   "cell_type": "markdown",
   "id": "53b74bb6-8659-490f-b0db-16bbc6babfa1",
   "metadata": {},
   "source": [
    "[![Open In SageMaker Studio Lab](https://studiolab.sagemaker.aws/studiolab.svg)](https://studiolab.sagemaker.aws/import/github/machinelearnear/use-gradio-streamlit-sagemaker-studiolab/blob/main/1_launch_gradio_streamlit.ipynb)"
   ]
  },
  {
   "cell_type": "markdown",
   "id": "261a11ab-2952-4901-a5ee-99a090dc13ed",
   "metadata": {},
   "source": [
    "# Use Gradio or Streamlit in SageMaker Studio Lab"
   ]
  },
  {
   "cell_type": "markdown",
   "id": "08ca3a2f-a387-40a8-aa7a-028c3d433626",
   "metadata": {},
   "source": [
    "### Import dependencies"
   ]
  },
  {
   "cell_type": "code",
   "execution_count": null,
   "id": "0b6b3355-2e36-4a6c-8296-5960f3b415c8",
   "metadata": {},
   "outputs": [],
   "source": [
    "from IPython.display import IFrame\n",
    "import gradio as gr"
   ]
  },
  {
   "cell_type": "markdown",
   "id": "4568332b-7641-4fe6-a1ee-b7b41587b62a",
   "metadata": {},
   "source": [
    "### Configure Studio Lab"
   ]
  },
  {
   "cell_type": "code",
   "execution_count": null,
   "id": "f4f42126-3a34-4aef-bf71-29aee7243c32",
   "metadata": {},
   "outputs": [],
   "source": [
    "studiolab_domain = 'luzdatd5d7fmka0'\n",
    "studiolab_region = 'us-east-2'\n",
    "studiolab_url = f'https://{studiolab_domain}.studio.{studiolab_region}.sagemaker.aws/studiolab/default/jupyter/proxy/6006/'"
   ]
  },
  {
   "cell_type": "markdown",
   "id": "0f5d1854-cc62-44c5-a1f9-ef7a4f8e1a2b",
   "metadata": {},
   "source": [
    "## Launch application"
   ]
  },
  {
   "cell_type": "markdown",
   "id": "818a8e04-787f-4e70-ae1d-eb7905071219",
   "metadata": {},
   "source": [
    "Following the same capability for `Tensorboard` on SageMaker Studio, you can now apply the same to work with a `Streamlit` or `Gradio` application, except the default port (8051) set by `Streamlit` for example is not open."
   ]
  },
  {
   "cell_type": "markdown",
   "id": "a3fa7a51-e9bb-4995-a353-0a3584fcafae",
   "metadata": {},
   "source": [
    "### Gradio"
   ]
  },
  {
   "cell_type": "code",
   "execution_count": null,
   "id": "3d27d90d-2ccc-4432-964e-ba8174a9ab41",
   "metadata": {},
   "outputs": [],
   "source": [
    "print(f'Wait a few seconds and then click the link below to open your Gradio application \\n{studiolab_url}\\n')\n",
    "\n",
    "# launch\n",
    "!python app_gradio.py"
   ]
  },
  {
   "cell_type": "markdown",
   "id": "092616ee-b36a-47e5-9ba1-26abb676b69a",
   "metadata": {
    "tags": []
   },
   "source": [
    "### Streamlit"
   ]
  },
  {
   "cell_type": "code",
   "execution_count": null,
   "id": "39f6d3a9-f9dc-47e1-bdc9-77dab76c7790",
   "metadata": {},
   "outputs": [],
   "source": [
    "print(f'Wait a few seconds and then click the link below to open your Streamlit application \\n{studiolab_url}\\n')\n",
    "\n",
    "# launch\n",
    "!streamlit run app_streamlit.py --server.port 6006 # or 80/8080"
   ]
  }
 ],
 "metadata": {
  "kernelspec": {
   "display_name": "machinelearnear-gradio-streamlit:Python",
   "language": "python",
   "name": "conda-env-machinelearnear-gradio-streamlit-py"
  },
  "language_info": {
   "codemirror_mode": {
    "name": "ipython",
    "version": 3
   },
   "file_extension": ".py",
   "mimetype": "text/x-python",
   "name": "python",
   "nbconvert_exporter": "python",
   "pygments_lexer": "ipython3",
   "version": "3.9.10"
  }
 },
 "nbformat": 4,
 "nbformat_minor": 5
}
